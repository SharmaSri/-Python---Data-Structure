{
  "nbformat": 4,
  "nbformat_minor": 0,
  "metadata": {
    "colab": {
      "provenance": []
    },
    "kernelspec": {
      "name": "python3",
      "display_name": "Python 3"
    },
    "language_info": {
      "name": "python"
    }
  },
  "cells": [
    {
      "cell_type": "markdown",
      "source": [
        "Discuss string slicing and provide examples"
      ],
      "metadata": {
        "id": "2fGNs3Mfw3jw"
      }
    },
    {
      "cell_type": "markdown",
      "source": [
        "String slicing in Python is a technique for retrieving a part of a string by specifying a range of indices. It’s useful for extracting substrings or rearranging data.\n",
        "Here's what each part means:\n",
        "\n",
        "start: The index at which the slice begins (inclusive).\n",
        "stop: The index at which the slice ends (exclusive).\n",
        "step: The interval between indices in the slice (optional).\n",
        "When values are omitted:\n",
        "\n",
        "If start is omitted, it defaults to 0 (the beginning of the string).\n",
        "If stop is omitted, it defaults to the end of the string.\n",
        "If step is omitted, it defaults to 1 (no skipping).\n",
        "Examples\n",
        "Let’s consider the string text = \"Hello, World!\" for examples:\n",
        "\n",
        "Basic Slicing: Extract \"Hello\""
      ],
      "metadata": {
        "id": "BnAdl7g-gRUz"
      }
    },
    {
      "cell_type": "markdown",
      "source": [],
      "metadata": {
        "id": "ZseNTTAJwm2W"
      }
    },
    {
      "cell_type": "code",
      "source": [
        "text = \"Hello, World!\"\n",
        "print(text[0:5])\n",
        "\n",
        "#Ommiting start and stop: Extract the entire string\n",
        "\n",
        "print(text[:])\n",
        "\n",
        "#Using Negative Indices: Extract \"World\"\n",
        "print(text[-6:-1])\n",
        "\n",
        "#Using step: Extract every second character\n",
        "print(text[::2])\n",
        "\n",
        "#Reversing a String:\n",
        "print(text[::-1])\n",
        "\n",
        "\n"
      ],
      "metadata": {
        "colab": {
          "base_uri": "https://localhost:8080/"
        },
        "id": "F0DTOYA8gfVs",
        "outputId": "f90a9d8d-3f20-44e7-ede0-5fdb27480994"
      },
      "execution_count": null,
      "outputs": [
        {
          "output_type": "stream",
          "name": "stdout",
          "text": [
            "Hello\n",
            "Hello, World!\n",
            "World\n",
            "Hlo ol!\n",
            "!dlroW ,olleH\n"
          ]
        }
      ]
    },
    {
      "cell_type": "markdown",
      "source": [
        "Explain the key features of lists in Python"
      ],
      "metadata": {
        "id": "pQzKajeqqKSi"
      }
    },
    {
      "cell_type": "markdown",
      "source": [
        "In Python, lists are one of the most commonly used data structures due to their flexibility and versatility. Here are the key features of lists:\n",
        "\n",
        "1. Ordered Collection\n",
        "Lists maintain the order of elements as they are inserted, meaning each element has a fixed position or index that can be accessed.\n",
        "The index starts at 0 for the first element and goes up to n-1 (where n is the length of the list)."
      ],
      "metadata": {
        "id": "kAc8Qpq3qNaf"
      }
    },
    {
      "cell_type": "code",
      "source": [
        "fruits = [\"apple\", \"banana\", \"cherry\"]\n",
        "print(fruits[0])\n"
      ],
      "metadata": {
        "colab": {
          "base_uri": "https://localhost:8080/"
        },
        "id": "AfNPJZCCrm_i",
        "outputId": "2b85ab5a-942f-4dc4-ddbf-127960bab4e7"
      },
      "execution_count": null,
      "outputs": [
        {
          "output_type": "stream",
          "name": "stdout",
          "text": [
            "apple\n"
          ]
        }
      ]
    },
    {
      "cell_type": "markdown",
      "source": [
        "Heterogeneous Elements\n",
        "Lists can store elements of different data types in the same list, making them suitable for handling mixed data.\n"
      ],
      "metadata": {
        "id": "u3JwWG42ruS4"
      }
    },
    {
      "cell_type": "code",
      "source": [
        "mixed_list = [1, \"apple\", 3.14, True]\n"
      ],
      "metadata": {
        "id": "jlZogQ1Vr2H6"
      },
      "execution_count": null,
      "outputs": []
    },
    {
      "cell_type": "markdown",
      "source": [
        "Mutability\n",
        "Lists are mutable, meaning elements within a list can be modified, added, or removed after the list is created. This is one of the main differences between lists and tuples (which are immutable)."
      ],
      "metadata": {
        "id": "stlDhqS0sBLC"
      }
    },
    {
      "cell_type": "markdown",
      "source": [],
      "metadata": {
        "id": "sXmHmnkhrqaN"
      }
    },
    {
      "cell_type": "code",
      "source": [
        "numbers = [1, 2, 3]\n",
        "numbers[1] = 5\n",
        "print(numbers)"
      ],
      "metadata": {
        "colab": {
          "base_uri": "https://localhost:8080/"
        },
        "id": "JwSS3uhmsCoG",
        "outputId": "60325eb9-8d3a-4221-dc10-44a18d5acc2b"
      },
      "execution_count": null,
      "outputs": [
        {
          "output_type": "stream",
          "name": "stdout",
          "text": [
            "[1, 5, 3]\n"
          ]
        }
      ]
    },
    {
      "cell_type": "markdown",
      "source": [
        "Dynamic Sizing\n",
        "Lists can grow or shrink in size as elements are added or removed, without needing to declare their size beforehand."
      ],
      "metadata": {
        "id": "lCIouxd6sQCu"
      }
    },
    {
      "cell_type": "code",
      "source": [
        "fruits = [\"apple\", \"banana\"]\n",
        "fruits.append(\"cherry\")\n",
        "print(fruits)\n"
      ],
      "metadata": {
        "colab": {
          "base_uri": "https://localhost:8080/"
        },
        "id": "nK0ElFRdsSWK",
        "outputId": "904070bd-c008-4bb9-8b42-3ce453e2023b"
      },
      "execution_count": null,
      "outputs": [
        {
          "output_type": "stream",
          "name": "stdout",
          "text": [
            "['apple', 'banana', 'cherry']\n"
          ]
        }
      ]
    },
    {
      "cell_type": "markdown",
      "source": [
        "Supports Various Operations\n",
        "Lists support a wide range of built-in operations, such as appending, inserting, removing elements, sorting, and reversing."
      ],
      "metadata": {
        "id": "zs2b8Dvksk1A"
      }
    },
    {
      "cell_type": "code",
      "source": [
        "# Adding and removing elements\n",
        "fruits = [\"apple\", \"banana\"]\n",
        "fruits.append(\"cherry\")\n",
        "fruits.insert(1, \"orange\")\n",
        "fruits.remove(\"banana\")\n",
        "print(fruits)\n"
      ],
      "metadata": {
        "colab": {
          "base_uri": "https://localhost:8080/"
        },
        "id": "vyP0B4MBsmPK",
        "outputId": "dcc363c0-78aa-4d56-cdc5-1b621f61a1a4"
      },
      "execution_count": null,
      "outputs": [
        {
          "output_type": "stream",
          "name": "stdout",
          "text": [
            "['apple', 'orange', 'cherry']\n"
          ]
        }
      ]
    },
    {
      "cell_type": "markdown",
      "source": [
        "Supports Slicing\n",
        "Like strings, lists support slicing to access subsets of elements using [start:stop:step] notation."
      ],
      "metadata": {
        "id": "ikX_4cd5tDyA"
      }
    },
    {
      "cell_type": "code",
      "source": [
        "numbers = [0, 1, 2, 3, 4, 5]\n",
        "print(numbers[1:4])\n",
        "print(numbers[::-1])\n"
      ],
      "metadata": {
        "colab": {
          "base_uri": "https://localhost:8080/"
        },
        "id": "cCEZIvi_tO4d",
        "outputId": "946b9497-9290-46d9-a030-e293289fe3a7"
      },
      "execution_count": null,
      "outputs": [
        {
          "output_type": "stream",
          "name": "stdout",
          "text": [
            "[1, 2, 3]\n",
            "[5, 4, 3, 2, 1, 0]\n"
          ]
        }
      ]
    },
    {
      "cell_type": "markdown",
      "source": [
        "Nested Lists\n",
        "Lists can contain other lists as elements, allowing the creation of complex data structures like matrices or multi-dimensional arrays."
      ],
      "metadata": {
        "id": "7aOGjfPKtgE9"
      }
    },
    {
      "cell_type": "code",
      "source": [
        "matrix = [[1, 2, 3], [4, 5, 6], [7, 8, 9]]\n",
        "print(matrix[1][2])\n"
      ],
      "metadata": {
        "colab": {
          "base_uri": "https://localhost:8080/"
        },
        "id": "-vffcpVCtnwA",
        "outputId": "bcf4433b-3566-4662-af49-ea49f1992d31"
      },
      "execution_count": null,
      "outputs": [
        {
          "output_type": "stream",
          "name": "stdout",
          "text": [
            "6\n"
          ]
        }
      ]
    },
    {
      "cell_type": "markdown",
      "source": [
        "Built-in Functions and Methods\n",
        "Python provides various built-in functions for lists, including len() to get the number of elements, min() and max() for numerical lists, and list methods like .append(), .pop(), .sort(), etc."
      ],
      "metadata": {
        "id": "9zjYKZpHuDfV"
      }
    },
    {
      "cell_type": "code",
      "source": [
        "numbers = [3, 1, 4, 1, 5]\n",
        "print(len(numbers))\n",
        "print(min(numbers))\n",
        "print(max(numbers))\n"
      ],
      "metadata": {
        "colab": {
          "base_uri": "https://localhost:8080/"
        },
        "id": "su99zW3ruE6j",
        "outputId": "4ce882aa-f9ab-48d7-ece5-0f90284d2b0a"
      },
      "execution_count": null,
      "outputs": [
        {
          "output_type": "stream",
          "name": "stdout",
          "text": [
            "5\n",
            "1\n",
            "5\n"
          ]
        }
      ]
    },
    {
      "cell_type": "markdown",
      "source": [
        " Iteration Support\n",
        "Lists are iterable, meaning you can use loops to traverse them easily."
      ],
      "metadata": {
        "id": "rhE6qtbMvmR1"
      }
    },
    {
      "cell_type": "code",
      "source": [
        "for fruit in [\"apple\", \"banana\", \"cherry\"]:\n",
        "    print(fruit)\n",
        "\n"
      ],
      "metadata": {
        "colab": {
          "base_uri": "https://localhost:8080/"
        },
        "id": "JyJtgwwkvnVN",
        "outputId": "8c482efc-c9fa-4a38-ba6c-2bd08fc1ba4c"
      },
      "execution_count": null,
      "outputs": [
        {
          "output_type": "stream",
          "name": "stdout",
          "text": [
            "apple\n",
            "banana\n",
            "cherry\n"
          ]
        }
      ]
    },
    {
      "cell_type": "markdown",
      "source": [
        "Describe how to access, modify, and delete elements in a list with examples"
      ],
      "metadata": {
        "id": "646Gnj7XxTjo"
      }
    },
    {
      "cell_type": "markdown",
      "source": [
        "accessing, modifying, and deleting elements in a list is straightforward, thanks to list indexing and built-in list methods.\n",
        "\n",
        "1. Accessing Elements\n",
        "Elements in a list can be accessed using their index.\n",
        "Positive indexing starts from 0 for the first element.\n",
        "Negative indexing starts from -1 for the last element and goes backward."
      ],
      "metadata": {
        "id": "BlS2I6V_xblE"
      }
    },
    {
      "cell_type": "code",
      "source": [
        "# Example list\n",
        "colors = [\"red\", \"green\", \"blue\", \"yellow\"]\n",
        "\n",
        "# Accessing elements with positive indexing\n",
        "print(colors[1])\n",
        "\n",
        "# Accessing elements with negative indexing\n",
        "print(colors[-1])\n"
      ],
      "metadata": {
        "colab": {
          "base_uri": "https://localhost:8080/"
        },
        "id": "moYmssYlxsjs",
        "outputId": "aff26902-e442-4b2e-e684-8b27fc01b9e0"
      },
      "execution_count": null,
      "outputs": [
        {
          "output_type": "stream",
          "name": "stdout",
          "text": [
            "green\n",
            "yellow\n"
          ]
        }
      ]
    },
    {
      "cell_type": "markdown",
      "source": [
        " Modifying Elements\n",
        "Since lists are mutable, you can modify elements by directly assigning a new value to a specific index.\n"
      ],
      "metadata": {
        "id": "oIRO7a9AyIUy"
      }
    },
    {
      "cell_type": "code",
      "source": [
        "# Modifying elements\n",
        "colors = [\"red\", \"green\", \"blue\", \"yellow\"]\n",
        "\n",
        "# Change the second element\n",
        "colors[1] = \"purple\"\n",
        "print(colors)\n",
        "\n",
        "# Modify multiple elements\n",
        "colors[1:3] = [\"orange\", \"pink\"]\n",
        "print(colors)\n"
      ],
      "metadata": {
        "colab": {
          "base_uri": "https://localhost:8080/"
        },
        "id": "YvYIAIXmyKbz",
        "outputId": "9f501737-fe3f-471c-f049-2ce46d9243d0"
      },
      "execution_count": null,
      "outputs": [
        {
          "output_type": "stream",
          "name": "stdout",
          "text": [
            "['red', 'purple', 'blue', 'yellow']\n",
            "['red', 'orange', 'pink', 'yellow']\n"
          ]
        }
      ]
    },
    {
      "cell_type": "markdown",
      "source": [
        "Deleting Elements\n",
        "There are multiple ways to delete elements from a list:\n",
        "\n",
        "Using del Statement: Removes elements by their index.\n",
        "Using .remove() Method: Removes the first occurrence of a specified value.\n",
        "Using .pop() Method: Removes and returns the element at a given index (default is the last element)."
      ],
      "metadata": {
        "id": "fQyDTwU9ycQU"
      }
    },
    {
      "cell_type": "code",
      "source": [
        "colors = [\"red\", \"green\", \"blue\", \"yellow\"]\n",
        "del colors[2]\n",
        "print(colors)\n",
        "\n",
        "#using remove to delete by value\n",
        "colors.remove(\"green\")\n",
        "print(colors)\n",
        "\n",
        "#using pop to delete and retrive an element\n",
        "last_color = colors.pop()\n",
        "print(colors)\n",
        "print(last_color)"
      ],
      "metadata": {
        "colab": {
          "base_uri": "https://localhost:8080/"
        },
        "id": "1epbX6Imyf6F",
        "outputId": "5de33be5-29c6-429d-8716-4ce3e3516fe4"
      },
      "execution_count": null,
      "outputs": [
        {
          "output_type": "stream",
          "name": "stdout",
          "text": [
            "['red', 'green', 'yellow']\n",
            "['red', 'yellow']\n",
            "['red']\n",
            "yellow\n"
          ]
        }
      ]
    },
    {
      "cell_type": "markdown",
      "source": [
        "Deleting a Range of Elements: Using slicing with del"
      ],
      "metadata": {
        "id": "hMhwFJGSzm9a"
      }
    },
    {
      "cell_type": "code",
      "source": [
        "numbers = [0, 1, 2, 3, 4, 5]\n",
        "del numbers[1:4]        # Deletes elements at indices 1 to 3 (1, 2, 3)\n",
        "print(numbers)\n"
      ],
      "metadata": {
        "colab": {
          "base_uri": "https://localhost:8080/"
        },
        "id": "uWiRenuezn0q",
        "outputId": "f24d4781-652d-43aa-d999-a8b008470c84"
      },
      "execution_count": null,
      "outputs": [
        {
          "output_type": "stream",
          "name": "stdout",
          "text": [
            "[0, 4, 5]\n"
          ]
        }
      ]
    },
    {
      "cell_type": "markdown",
      "source": [
        "Compare and contrast tuples and lists with examples"
      ],
      "metadata": {
        "id": "eevqbw2gz_YK"
      }
    },
    {
      "cell_type": "markdown",
      "source": [
        "Tuples and lists in Python are both data structures used to store collections of items. However, they differ in several important ways, primarily in mutability and usage. Here's a comparison:\n",
        "\n",
        "1. Mutability\n",
        "Lists are mutable, meaning you can change, add, or remove elements after the list is created.\n",
        "Tuples are immutable, meaning once created, you cannot modify, add, or remove elements."
      ],
      "metadata": {
        "id": "o0eL_hWP0Fqs"
      }
    },
    {
      "cell_type": "code",
      "source": [
        "# List Example (Mutable)\n",
        "fruits = [\"apple\", \"banana\", \"cherry\"]\n",
        "fruits[1] = \"orange\"         # Modify element\n",
        "fruits.append(\"grape\")        # Add element\n",
        "print(fruits)\n",
        "\n",
        "# Tuple Example (Immutable)\n",
        "colors = (\"red\", \"green\", \"blue\")\n",
        "# colors[1] = \"yellow\"        # This would raise an error\n"
      ],
      "metadata": {
        "colab": {
          "base_uri": "https://localhost:8080/"
        },
        "id": "RDjXmEq40W1L",
        "outputId": "8c675978-1dc8-4626-bc25-a8942e8d71ab"
      },
      "execution_count": null,
      "outputs": [
        {
          "output_type": "stream",
          "name": "stdout",
          "text": [
            "['apple', 'orange', 'cherry', 'grape']\n"
          ]
        }
      ]
    },
    {
      "cell_type": "markdown",
      "source": [
        "Syntax\n",
        "Lists are created with square brackets [].\n",
        "Tuples are created with parentheses ().\n"
      ],
      "metadata": {
        "id": "LEARBvmT1deW"
      }
    },
    {
      "cell_type": "code",
      "source": [
        "# List Example\n",
        "my_list = [1, 2, 3]\n",
        "\n",
        "# Tuple Example\n",
        "my_tuple = (1, 2, 3)\n"
      ],
      "metadata": {
        "id": "4HmBqYpJ1lLG"
      },
      "execution_count": null,
      "outputs": []
    },
    {
      "cell_type": "markdown",
      "source": [
        "Usage and Performance\n",
        "Lists are preferred when you need a collection that may change over time (e.g., adding/removing elements).\n",
        "Tuples are typically used for fixed data that should not change, such as coordinates, configurations, or data that is meant to be constant.\n",
        "Performance: Tuples are generally faster than lists because they are immutable, which allows Python to optimize memory usage and operations with tuples."
      ],
      "metadata": {
        "id": "rEWf82n-2oyM"
      }
    },
    {
      "cell_type": "code",
      "source": [
        "# Example: Storing fixed data in a tuple\n",
        "coordinates = (40.7128, -74.0060)   # Latitude and longitude for New York City\n"
      ],
      "metadata": {
        "id": "K8zpSdHu2qj5"
      },
      "execution_count": null,
      "outputs": []
    },
    {
      "cell_type": "markdown",
      "source": [
        "Methods and Functions\n",
        "Lists have more methods because they support modifying operations (e.g., .append(), .remove(), .sort()).\n",
        "Tuples have fewer methods (only .count() and .index()), as they cannot be modified after creation."
      ],
      "metadata": {
        "id": "LcZNV2Jf2z-y"
      }
    },
    {
      "cell_type": "code",
      "source": [
        "# List Methods\n",
        "my_list = [1, 2, 3]\n",
        "my_list.append(4)\n",
        "print(my_list)  # Output: [1, 2, 3, 4]\n",
        "\n",
        "# Tuple Methods\n",
        "my_tuple = (1, 2, 3, 2)\n",
        "print(my_tuple.count(2))\n",
        "print(my_tuple.index(3))\n"
      ],
      "metadata": {
        "colab": {
          "base_uri": "https://localhost:8080/"
        },
        "id": "sBeoYzF0235y",
        "outputId": "edf84c5d-6607-4aa5-8f38-8f9ceece643d"
      },
      "execution_count": null,
      "outputs": [
        {
          "output_type": "stream",
          "name": "stdout",
          "text": [
            "[1, 2, 3, 4]\n",
            "2\n",
            "2\n"
          ]
        }
      ]
    },
    {
      "cell_type": "markdown",
      "source": [
        "Unpacking\n",
        "Both lists and tuples support unpacking, allowing you to assign values directly to variables."
      ],
      "metadata": {
        "id": "cbQeA4ex3cau"
      }
    },
    {
      "cell_type": "code",
      "source": [
        "# Tuple unpacking\n",
        "my_tuple = (1, 2, 3)\n",
        "x, y, z = my_tuple\n",
        "print(x, y, z)\n",
        "\n",
        "# List unpacking\n",
        "my_list = [4, 5, 6]\n",
        "a, b, c = my_list\n",
        "print(a, b, c)\n"
      ],
      "metadata": {
        "colab": {
          "base_uri": "https://localhost:8080/"
        },
        "id": "0HJWufg23egh",
        "outputId": "bca0e929-f720-4bb1-ad74-a11db9ac0f59"
      },
      "execution_count": null,
      "outputs": [
        {
          "output_type": "stream",
          "name": "stdout",
          "text": [
            "1 2 3\n",
            "4 5 6\n"
          ]
        }
      ]
    },
    {
      "cell_type": "markdown",
      "source": [
        "Immutability in Tuples – Safety in Certain Use Cases\n",
        "Tuples being immutable makes them hashable and suitable for use as dictionary keys or elements in a set.\n",
        "Lists cannot be used as dictionary keys or set elements because they are mutable and, thus, unhashable."
      ],
      "metadata": {
        "id": "4yjF_O0m3ts7"
      }
    },
    {
      "cell_type": "code",
      "source": [
        "# Tuple as a dictionary key\n",
        "locations = {\n",
        "    (40.7128, -74.0060): \"New York City\",\n",
        "    (34.0522, -118.2437): \"Los Angeles\"\n",
        "}\n",
        "\n",
        "# List cannot be used as a dictionary key\n"
      ],
      "metadata": {
        "id": "g6hLlXF23vXo"
      },
      "execution_count": null,
      "outputs": []
    },
    {
      "cell_type": "markdown",
      "source": [
        "Describe the key features of sets and provide examples of their use"
      ],
      "metadata": {
        "id": "OGaEBrwG31D9"
      }
    },
    {
      "cell_type": "markdown",
      "source": [
        "sets are an unordered collection of unique elements, which makes them ideal for cases where duplicates are not needed and where set operations (like union, intersection, and difference) are useful. Here are the key features of sets and examples of their use:\n",
        "\n",
        "Key Features of Sets\n",
        "Unordered Collection\n",
        "\n",
        "Sets do not maintain the order of elements. Items in a set appear in a random order each time the set is printed or accessed."
      ],
      "metadata": {
        "id": "qc3i2ua636YQ"
      }
    },
    {
      "cell_type": "code",
      "source": [
        "numbers = {1, 3, 2, 4}\n",
        "print(numbers)  # Output might be: {1, 2, 3, 4} or another ordering\n"
      ],
      "metadata": {
        "colab": {
          "base_uri": "https://localhost:8080/"
        },
        "id": "vKCHgeqE5FN8",
        "outputId": "5b40d374-61e4-42ec-df92-89eb415bbc04"
      },
      "execution_count": null,
      "outputs": [
        {
          "output_type": "stream",
          "name": "stdout",
          "text": [
            "{1, 2, 3, 4}\n"
          ]
        }
      ]
    },
    {
      "cell_type": "markdown",
      "source": [
        "Unique Elements\n",
        "\n",
        "Sets automatically remove duplicate values, so each element in a set is unique."
      ],
      "metadata": {
        "id": "s2_ldUTS5I42"
      }
    },
    {
      "cell_type": "code",
      "source": [
        "# Duplicate elements are automatically removed\n",
        "items = {1, 2, 2, 3, 4, 4}\n",
        "print(items)\n"
      ],
      "metadata": {
        "colab": {
          "base_uri": "https://localhost:8080/"
        },
        "id": "-s3DKQem5N8s",
        "outputId": "be58a915-709b-4768-f516-0bbf19ef58fc"
      },
      "execution_count": null,
      "outputs": [
        {
          "output_type": "stream",
          "name": "stdout",
          "text": [
            "{1, 2, 3, 4}\n"
          ]
        }
      ]
    },
    {
      "cell_type": "markdown",
      "source": [
        "Mutable\n",
        "\n",
        "Sets are mutable, meaning you can add or remove elements after the set is created.\n",
        "However, sets themselves cannot contain mutable elements like lists or other sets (but can contain immutable types like tuples)."
      ],
      "metadata": {
        "id": "H8VdXcgB5T3d"
      }
    },
    {
      "cell_type": "code",
      "source": [
        "fruits = {\"apple\", \"banana\"}\n",
        "fruits.add(\"cherry\")  # Adding an element\n",
        "print(fruits)\n"
      ],
      "metadata": {
        "colab": {
          "base_uri": "https://localhost:8080/"
        },
        "id": "OcRitFWj5ZMm",
        "outputId": "2d8a16a4-c3a7-4676-ba74-dd0abab3c4b8"
      },
      "execution_count": null,
      "outputs": [
        {
          "output_type": "stream",
          "name": "stdout",
          "text": [
            "{'apple', 'banana', 'cherry'}\n"
          ]
        }
      ]
    },
    {
      "cell_type": "markdown",
      "source": [
        "No Indexing or Slicing\n",
        "\n",
        "Since sets are unordered, they do not support indexing or slicing like lists and tuples do."
      ],
      "metadata": {
        "id": "ANgQ1nKP5x_9"
      }
    },
    {
      "cell_type": "code",
      "source": [
        "numbers = {1, 2, 3}\n",
        "# numbers[0] would raise an error as sets don't support indexing\n"
      ],
      "metadata": {
        "id": "733dnf3Q5zhW"
      },
      "execution_count": null,
      "outputs": []
    },
    {
      "cell_type": "markdown",
      "source": [
        "Set Operations\n",
        "\n",
        "Sets support mathematical set operations such as union, intersection, difference, and symmetric difference, making them useful for comparisons between collections."
      ],
      "metadata": {
        "id": "08HJfI4w54Y8"
      }
    },
    {
      "cell_type": "code",
      "source": [
        "set_a = {1, 2, 3}\n",
        "set_b = {3, 4, 5}\n",
        "\n",
        "# Union\n",
        "print(set_a | set_b)\n",
        "\n",
        "\n",
        "# Intersection\n",
        "print(set_a & set_b)\n",
        "\n",
        "# Difference\n",
        "print(set_a - set_b)\n",
        "\n",
        "# Symmetric Difference\n",
        "print(set_a ^ set_b)\n"
      ],
      "metadata": {
        "colab": {
          "base_uri": "https://localhost:8080/"
        },
        "id": "zTb47PL_55dd",
        "outputId": "5ff7904d-0f7c-4ec4-da8c-7bc74a886c19"
      },
      "execution_count": null,
      "outputs": [
        {
          "output_type": "stream",
          "name": "stdout",
          "text": [
            "{1, 2, 3, 4, 5}\n",
            "{3}\n",
            "{1, 2}\n",
            "{1, 2, 4, 5}\n"
          ]
        }
      ]
    },
    {
      "cell_type": "markdown",
      "source": [
        "Efficient Membership Testing\n",
        "\n",
        "Sets offer fast membership testing, allowing you to check whether an element exists in a set more efficiently than in lists."
      ],
      "metadata": {
        "id": "r2C1kp3b6Hc0"
      }
    },
    {
      "cell_type": "code",
      "source": [
        "vowels = {\"a\", \"e\", \"i\", \"o\", \"u\"}\n",
        "print(\"e\" in vowels)\n",
        "print(\"z\" in vowels)\n"
      ],
      "metadata": {
        "colab": {
          "base_uri": "https://localhost:8080/"
        },
        "id": "FMqpuMt_6IWF",
        "outputId": "5e1e5586-6b50-41c4-e3d4-0f2734d2d3cc"
      },
      "execution_count": null,
      "outputs": [
        {
          "output_type": "stream",
          "name": "stdout",
          "text": [
            "True\n",
            "False\n"
          ]
        }
      ]
    },
    {
      "cell_type": "markdown",
      "source": [
        "Common Use Cases of Sets\n",
        "Removing Duplicates from a List\n",
        "\n",
        "Sets are often used to remove duplicates from a list, as they automatically eliminate duplicate values."
      ],
      "metadata": {
        "id": "ZMRjt9mf6WSO"
      }
    },
    {
      "cell_type": "code",
      "source": [
        "numbers = [1, 2, 2, 3, 4, 4, 5]\n",
        "unique_numbers = set(numbers)\n",
        "print(unique_numbers)\n",
        "\n"
      ],
      "metadata": {
        "colab": {
          "base_uri": "https://localhost:8080/"
        },
        "id": "qik91CZo6W9j",
        "outputId": "323c12a0-df66-44d3-8a06-ae935f2d1e9e"
      },
      "execution_count": null,
      "outputs": [
        {
          "output_type": "stream",
          "name": "stdout",
          "text": [
            "{1, 2, 3, 4, 5}\n"
          ]
        }
      ]
    },
    {
      "cell_type": "markdown",
      "source": [
        "Set Operations for Comparisons\n",
        "\n",
        "Sets can be used to find common elements (intersection), all unique elements (union), or differences between two collections."
      ],
      "metadata": {
        "id": "2lT-Z4-o6e5X"
      }
    },
    {
      "cell_type": "code",
      "source": [
        "# Example: Finding common friends between two people\n",
        "alice_friends = {\"John\", \"Marta\", \"Kyle\"}\n",
        "bob_friends = {\"Marta\", \"Kyle\", \"Sophie\"}\n",
        "\n",
        "# Common friends\n",
        "common_friends = alice_friends & bob_friends\n",
        "print(common_friends)\n"
      ],
      "metadata": {
        "colab": {
          "base_uri": "https://localhost:8080/"
        },
        "id": "VrVvOrUP6gLf",
        "outputId": "74b8743f-3f77-4992-81f4-7eebf5c873cf"
      },
      "execution_count": null,
      "outputs": [
        {
          "output_type": "stream",
          "name": "stdout",
          "text": [
            "{'Marta', 'Kyle'}\n"
          ]
        }
      ]
    },
    {
      "cell_type": "markdown",
      "source": [
        "Efficient Membership Testing\n",
        "\n",
        "Sets provide an efficient way to test if an element exists, which is useful for tasks like filtering data or checking attendance."
      ],
      "metadata": {
        "id": "sP2_mqhm6o6I"
      }
    },
    {
      "cell_type": "code",
      "source": [
        "attendees = {\"Alice\", \"Bob\", \"Charlie\"}\n",
        "print(\"Alice\" in attendees)\n",
        "print(\"Dave\" in attendees)\n"
      ],
      "metadata": {
        "colab": {
          "base_uri": "https://localhost:8080/"
        },
        "id": "lutlKHW-6qsr",
        "outputId": "5a9a47e0-f68a-4b39-ce0d-b5e34ab4d46b"
      },
      "execution_count": null,
      "outputs": [
        {
          "output_type": "stream",
          "name": "stdout",
          "text": [
            "True\n",
            "False\n"
          ]
        }
      ]
    },
    {
      "cell_type": "markdown",
      "source": [
        "Finding Unique Words in a Text\n",
        "\n",
        "Sets can be used to find unique words from a text, which is useful in tasks like word frequency analysis or text processing."
      ],
      "metadata": {
        "id": "-09VG3DEAQxb"
      }
    },
    {
      "cell_type": "code",
      "source": [
        "text = \"this is a sample text with some sample words\"\n",
        "words = set(text.split())\n",
        "print(words)"
      ],
      "metadata": {
        "colab": {
          "base_uri": "https://localhost:8080/"
        },
        "id": "lfEvTRfVASt9",
        "outputId": "d8ff97ec-f33d-486a-af7a-9e0406c2f324"
      },
      "execution_count": null,
      "outputs": [
        {
          "output_type": "stream",
          "name": "stdout",
          "text": [
            "{'words', 'with', 'some', 'a', 'this', 'text', 'is', 'sample'}\n"
          ]
        }
      ]
    },
    {
      "cell_type": "markdown",
      "source": [
        "Discuss the use cases of tuples and sets in Python programming"
      ],
      "metadata": {
        "id": "KShasdWcAiye"
      }
    },
    {
      "cell_type": "markdown",
      "source": [
        "Tuples and sets are both valuable data structures in Python with distinct use cases suited to different types of tasks. Here are some common use cases for each:\n",
        "Use Cases of Tuples\n",
        "Immutable Data Storage\n",
        "\n",
        "Tuples are ideal for storing data that should not change throughout the program, such as constants or fixed configurations.\n",
        "Examples: RGB color values, configuration settings, geographical coordinates."
      ],
      "metadata": {
        "id": "O1eycKGSAkZ3"
      }
    },
    {
      "cell_type": "code",
      "source": [
        "rgb_color = (255, 0, 0)  # Red color\n",
        "location = (40.7128, -74.0060)  # Latitude and longitude for NYC\n"
      ],
      "metadata": {
        "id": "02GF0K4y6j4q"
      },
      "execution_count": null,
      "outputs": []
    },
    {
      "cell_type": "markdown",
      "source": [
        "Returning Multiple Values from Functions\n",
        "\n",
        "Tuples are often used to return multiple values from functions in a compact way, reducing the need for separate variables."
      ],
      "metadata": {
        "id": "jqr-_n4z6sNr"
      }
    },
    {
      "cell_type": "code",
      "source": [
        "def get_user_info():\n",
        "    return \"Alice\", 25, \"Engineer\"\n",
        "\n",
        "name, age, profession = get_user_info()\n"
      ],
      "metadata": {
        "id": "jY5yfSbw6t8E"
      },
      "execution_count": 1,
      "outputs": []
    },
    {
      "cell_type": "markdown",
      "source": [
        "Dictionary Keys and Elements in Sets\n",
        "\n",
        "Since tuples are hashable (immutable), they can be used as dictionary keys or elements in sets. This is useful for representing complex keys."
      ],
      "metadata": {
        "id": "zIPPtvyK60x4"
      }
    },
    {
      "cell_type": "code",
      "source": [
        "# Dictionary with tuple keys\n",
        "distances = {\n",
        "    (\"A\", \"B\"): 5,\n",
        "    (\"B\", \"C\"): 10\n",
        "}\n"
      ],
      "metadata": {
        "id": "mlue4VgQ62Lq"
      },
      "execution_count": 2,
      "outputs": []
    },
    {
      "cell_type": "markdown",
      "source": [
        "Use Cases of Sets\n",
        "Removing Duplicates from a Collection\n",
        "\n",
        "Sets automatically eliminate duplicate items, making them ideal for tasks where unique values are needed, such as deduplicating items in a list."
      ],
      "metadata": {
        "id": "AGNTSujF7Bud"
      }
    },
    {
      "cell_type": "code",
      "source": [
        "numbers = [1, 2, 2, 3, 4, 4, 5]\n",
        "unique_numbers = set(numbers)\n",
        "print(unique_numbers)"
      ],
      "metadata": {
        "colab": {
          "base_uri": "https://localhost:8080/"
        },
        "id": "04ZsMCaI7FpA",
        "outputId": "524c0e25-2099-4d22-994b-0cc1e256884a"
      },
      "execution_count": 4,
      "outputs": [
        {
          "output_type": "stream",
          "name": "stdout",
          "text": [
            "{1, 2, 3, 4, 5}\n"
          ]
        }
      ]
    },
    {
      "cell_type": "markdown",
      "source": [
        "Efficient Membership Testing\n",
        "\n",
        "Sets provide an efficient way to test if an element exists, useful in tasks where fast lookups are needed, like checking user permissions or filtering data."
      ],
      "metadata": {
        "id": "_0rG9Urj7ZsH"
      }
    },
    {
      "cell_type": "code",
      "source": [
        "usernames = {\"alice\", \"bob\", \"charlie\"}\n",
        "if \"alice\" in usernames:\n",
        "    print(\"User found!\")\n"
      ],
      "metadata": {
        "colab": {
          "base_uri": "https://localhost:8080/"
        },
        "id": "5lebkH2a7al0",
        "outputId": "200fa93f-2c19-4431-a18a-d65b08b90d20"
      },
      "execution_count": 5,
      "outputs": [
        {
          "output_type": "stream",
          "name": "stdout",
          "text": [
            "User found!\n"
          ]
        }
      ]
    },
    {
      "cell_type": "markdown",
      "source": [
        "Set Operations (Union, Intersection, Difference, Symmetric Difference)\n",
        "\n",
        "Sets allow easy comparison of two or more collections, making them useful for finding common items (intersection), combining items (union), or finding exclusive items (difference)."
      ],
      "metadata": {
        "id": "GXOruUWO7hh8"
      }
    },
    {
      "cell_type": "code",
      "source": [
        "students_class1 = {\"Alice\", \"Bob\", \"Charlie\"}\n",
        "students_class2 = {\"Charlie\", \"David\", \"Ella\"}\n",
        "\n",
        "# Students in both classes\n",
        "common_students = students_class1 & students_class2\n",
        "\n",
        "# All students\n",
        "all_students = students_class1 | students_class2\n",
        "print(common_students)\n",
        "print(all_students)"
      ],
      "metadata": {
        "colab": {
          "base_uri": "https://localhost:8080/"
        },
        "id": "HbAISyqH7i3j",
        "outputId": "49c44bb7-0c5b-4dc2-ed58-66d3c54e0714"
      },
      "execution_count": 7,
      "outputs": [
        {
          "output_type": "stream",
          "name": "stdout",
          "text": [
            "{'Charlie'}\n",
            "{'Ella', 'Charlie', 'David', 'Alice', 'Bob'}\n"
          ]
        }
      ]
    },
    {
      "cell_type": "markdown",
      "source": [
        "Filtering Data\n",
        "\n",
        "Sets can quickly remove unwanted elements by using set operations. This is useful when filtering or excluding certain items from a dataset."
      ],
      "metadata": {
        "id": "oCFhHi5d79ae"
      }
    },
    {
      "cell_type": "code",
      "source": [
        "# Remove banned items from available items\n",
        "items = {\"apple\", \"banana\", \"cherry\"}\n",
        "banned_items = {\"banana\"}\n",
        "\n",
        "allowed_items = items - banned_items\n",
        "print(allowed_items)"
      ],
      "metadata": {
        "colab": {
          "base_uri": "https://localhost:8080/"
        },
        "id": "ePOuyAoh7_QW",
        "outputId": "2940adef-facc-467c-f297-9de69c934d87"
      },
      "execution_count": 8,
      "outputs": [
        {
          "output_type": "stream",
          "name": "stdout",
          "text": [
            "{'apple', 'cherry'}\n"
          ]
        }
      ]
    },
    {
      "cell_type": "markdown",
      "source": [
        "Finding Unique Words in Text Processing\n",
        "\n",
        "Sets are helpful in text analysis tasks where unique words are needed. For example, in finding distinct words in a document or comparing vocabulary between documents."
      ],
      "metadata": {
        "id": "eGoD_uy48P1w"
      }
    },
    {
      "cell_type": "code",
      "source": [
        "text = \"this is a sample text with some sample words\"\n",
        "unique_words = set(text.split())\n",
        "print(unique_words)"
      ],
      "metadata": {
        "colab": {
          "base_uri": "https://localhost:8080/"
        },
        "id": "S1NEnOKM8Rog",
        "outputId": "0f314a52-445a-470e-80d6-5c9e3afcc01e"
      },
      "execution_count": 9,
      "outputs": [
        {
          "output_type": "stream",
          "name": "stdout",
          "text": [
            "{'is', 'a', 'words', 'some', 'with', 'text', 'this', 'sample'}\n"
          ]
        }
      ]
    },
    {
      "cell_type": "markdown",
      "source": [
        "Describe how to add, modify, and delete items in a dictionary with examples"
      ],
      "metadata": {
        "id": "0KaVmkzr806a"
      }
    },
    {
      "cell_type": "markdown",
      "source": [
        "Adding Items to a Dictionary\n",
        "You can add items by assigning a value to a new key using the syntax dictionary[key] = value.\n",
        "If the key already exists, the value will be updated."
      ],
      "metadata": {
        "id": "-jvCcl2k9N-r"
      }
    },
    {
      "cell_type": "code",
      "source": [
        "# Initial dictionary\n",
        "student = {\"name\": \"Alice\", \"age\": 24}\n",
        "\n",
        "# Adding a new key-value pair\n",
        "student[\"grade\"] = \"A\"\n",
        "print(student)\n",
        "\n",
        "# Using update() to add multiple items at once\n",
        "student.update({\"major\": \"Computer Science\", \"GPA\": 3.8})\n",
        "print(student)\n"
      ],
      "metadata": {
        "colab": {
          "base_uri": "https://localhost:8080/"
        },
        "id": "iWnknvVG-Lzd",
        "outputId": "b6fc8bdc-5a20-414b-d819-40a202283e66"
      },
      "execution_count": 11,
      "outputs": [
        {
          "output_type": "stream",
          "name": "stdout",
          "text": [
            "{'name': 'Alice', 'age': 24, 'grade': 'A'}\n",
            "{'name': 'Alice', 'age': 24, 'grade': 'A', 'major': 'Computer Science', 'GPA': 3.8}\n"
          ]
        }
      ]
    },
    {
      "cell_type": "markdown",
      "source": [
        " Modifying Items in a Dictionary\n",
        "To modify an existing item, assign a new value to an existing key using dictionary[key] = new_value.\n",
        "If the key doesn’t exist, a new item will be added."
      ],
      "metadata": {
        "id": "1pOaFSiA-Wj5"
      }
    },
    {
      "cell_type": "code",
      "source": [
        "# Existing dictionary\n",
        "student = {\"name\": \"Alice\", \"age\": 24, \"grade\": \"A\"}\n",
        "\n",
        "# Modifying an existing key-value pair\n",
        "student[\"age\"] = 25\n",
        "print(student)\n",
        "\n",
        "# Modifying multiple values using update()\n",
        "student.update({\"grade\": \"A+\", \"GPA\": 3.9})\n",
        "print(student)\n"
      ],
      "metadata": {
        "colab": {
          "base_uri": "https://localhost:8080/"
        },
        "id": "SkF0svfe-Xek",
        "outputId": "0af5b404-067f-41a8-c87e-ce368ff236bb"
      },
      "execution_count": 12,
      "outputs": [
        {
          "output_type": "stream",
          "name": "stdout",
          "text": [
            "{'name': 'Alice', 'age': 25, 'grade': 'A'}\n",
            "{'name': 'Alice', 'age': 25, 'grade': 'A+', 'GPA': 3.9}\n"
          ]
        }
      ]
    },
    {
      "cell_type": "markdown",
      "source": [
        "Deleting Items from a Dictionary\n",
        "Using del Statement: Deletes an item by its key.\n",
        "Using .pop() Method: Removes an item by key and returns the value.\n",
        "Using .popitem() Method: Removes and returns the last inserted item (useful in Python 3.7+ where dictionaries preserve insertion order).\n",
        "Using .clear() Method: Removes all items, emptying the dictionary.\n",
        "python\n",
        "Copy code\n"
      ],
      "metadata": {
        "id": "hP7knx3w-nAP"
      }
    },
    {
      "cell_type": "code",
      "source": [
        "# Initial dictionary\n",
        "student = {\"name\": \"Alice\", \"age\": 25, \"grade\": \"A+\", \"GPA\": 3.9}\n",
        "\n",
        "# Deleting an item with del\n",
        "del student[\"GPA\"]\n",
        "print(student)\n",
        "\n",
        "# Deleting an item with pop\n",
        "age = student.pop(\"age\")\n",
        "print(age)\n",
        "print(student)\n",
        "\n",
        "# Deleting the last item with popitem\n",
        "last_item = student.popitem()\n",
        "print(last_item)\n",
        "print(student)\n",
        "\n",
        "# Deleting all items with clear\n",
        "student.clear()\n",
        "print(student)\n"
      ],
      "metadata": {
        "colab": {
          "base_uri": "https://localhost:8080/"
        },
        "id": "vZqm7Bpf-ocf",
        "outputId": "c45b85ce-6132-4f42-9243-84fbd1b060c7"
      },
      "execution_count": 13,
      "outputs": [
        {
          "output_type": "stream",
          "name": "stdout",
          "text": [
            "{'name': 'Alice', 'age': 25, 'grade': 'A+'}\n",
            "25\n",
            "{'name': 'Alice', 'grade': 'A+'}\n",
            "('grade', 'A+')\n",
            "{'name': 'Alice'}\n",
            "{}\n"
          ]
        }
      ]
    },
    {
      "cell_type": "markdown",
      "source": [
        " Discuss the importance of dictionary keys being immutable and provide example"
      ],
      "metadata": {
        "id": "LsMQjtFM_JHC"
      }
    },
    {
      "cell_type": "markdown",
      "source": [
        "In Python, dictionary keys must be immutable because they are used to uniquely identify values within the dictionary and are hashed to determine where they are stored. Immutability in this context means that once a key is created, it cannot change, allowing Python to maintain the integrity of the dictionary structure and efficiently retrieve values.\n",
        "Why Dictionary Keys Must Be Immutable\n",
        "Hashing for Fast Lookups:\n",
        "\n",
        "Dictionaries use a hash table to store key-value pairs, and each key's hash determines its position in the hash table.\n",
        "Immutability ensures that a key’s hash value remains constant, allowing for quick lookups, insertions, and deletions without the risk of the key’s position changing unexpectedly.\n",
        "Reliability and Consistency:\n",
        "\n",
        "If dictionary keys were mutable, any change to a key would alter its hash, potentially making it inaccessible since its hash value would no longer point to the correct location in the dictionary.\n",
        "This would break the integrity of the dictionary, as keys might no longer map to their values correctly.\n",
        "Supported Key Types:\n",
        "\n",
        "Python enforces immutability by allowing only immutable types (like strings, numbers, and tuples) as dictionary keys.\n",
        "Mutable types like lists or dictionaries cannot be used as keys because their contents—and therefore their hash—could change.\n",
        "Examples of Using Immutable and Mutable Types as Dictionary Keys\n",
        "Immutable Key (Allowed):\n",
        "\n",
        "Strings, integers, floats, and tuples (containing only immutable elements) can serve as dictionary keys."
      ],
      "metadata": {
        "id": "G82-m2A6f8tk"
      }
    },
    {
      "cell_type": "code",
      "source": [
        "# Using strings and numbers as dictionary keys\n",
        "student = {\n",
        "    \"name\": \"Alice\",\n",
        "    \"age\": 24,\n",
        "    101: \"student_id\"\n",
        "}\n",
        "print(student[\"name\"])\n",
        "print(student[101])\n",
        "\n",
        "# Using a tuple as a dictionary key\n",
        "coordinates = {\n",
        "    (40.7128, -74.0060): \"New York\",\n",
        "    (34.0522, -118.2437): \"Los Angeles\"\n",
        "}\n",
        "print(coordinates[(40.7128, -74.0060)])\n"
      ],
      "metadata": {
        "colab": {
          "base_uri": "https://localhost:8080/"
        },
        "id": "NL9-9XSDoUOF",
        "outputId": "1b67d2d2-5643-46c3-b2ee-7fbb90fe4b4d"
      },
      "execution_count": 1,
      "outputs": [
        {
          "output_type": "stream",
          "name": "stdout",
          "text": [
            "Alice\n",
            "student_id\n",
            "New York\n"
          ]
        }
      ]
    },
    {
      "cell_type": "markdown",
      "source": [
        "Mutable Key (Not Allowed):\n",
        "\n",
        "Attempting to use a mutable type (like a list or dictionary) as a key raises a TypeError."
      ],
      "metadata": {
        "id": "r8IwG_95poc0"
      }
    },
    {
      "cell_type": "code",
      "source": [
        "# Trying to use a list as a key will result in an error\n",
        "try:\n",
        "    data = {\n",
        "        [\"a\", \"b\"]: \"example\"  # Lists are mutable and cannot be used as keys\n",
        "    }\n",
        "except TypeError as e:\n",
        "    print(e)\n"
      ],
      "metadata": {
        "colab": {
          "base_uri": "https://localhost:8080/"
        },
        "id": "0PceTRd-pp9T",
        "outputId": "779d1ad0-383d-4dcb-94ad-d5eac773822e"
      },
      "execution_count": 2,
      "outputs": [
        {
          "output_type": "stream",
          "name": "stdout",
          "text": [
            "unhashable type: 'list'\n"
          ]
        }
      ]
    },
    {
      "cell_type": "markdown",
      "source": [
        "Changing the Contents of a Tuple Key (Immutable Nested Elements):\n",
        "\n",
        "While tuples themselves are immutable, they must only contain immutable elements if used as keys. If a tuple contains mutable elements like a list, it becomes unhashable and unsuitable as a key."
      ],
      "metadata": {
        "id": "04pYCPrPqXbU"
      }
    },
    {
      "cell_type": "code",
      "source": [],
      "metadata": {
        "id": "9iekrBFBqZHP"
      },
      "execution_count": null,
      "outputs": []
    },
    {
      "cell_type": "code",
      "source": [
        "# Tuple with an immutable element (valid key)\n",
        "valid_key = (1, 2, 3)\n",
        "my_dict = {valid_key: \"valid\"}\n",
        "\n",
        "# Tuple with a mutable element (invalid key)\n",
        "invalid_key = (1, [2, 3])\n",
        "try:\n",
        "    my_dict = {invalid_key: \"invalid\"}  # Raises TypeError\n",
        "except TypeError as e:\n",
        "    print(e)\n"
      ],
      "metadata": {
        "colab": {
          "base_uri": "https://localhost:8080/"
        },
        "id": "T7xwSxLZqaHp",
        "outputId": "34cc03c4-d8aa-4c7a-f661-417bd7b86dce"
      },
      "execution_count": 3,
      "outputs": [
        {
          "output_type": "stream",
          "name": "stdout",
          "text": [
            "unhashable type: 'list'\n"
          ]
        }
      ]
    }
  ]
}